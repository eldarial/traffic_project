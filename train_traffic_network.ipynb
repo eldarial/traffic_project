{
 "cells": [
  {
   "cell_type": "code",
   "execution_count": null,
   "metadata": {
    "collapsed": false
   },
   "outputs": [],
   "source": [
    "import cv2\n",
    "import pickle\n",
    "import matplotlib.pyplot as plt\n",
    "import numpy as np\n",
    "%matplotlib inline\n",
    "\n",
    "from keras import backend as K\n",
    "from keras.models import Sequential, Model\n",
    "from keras.layers import Activation, Input, Embedding, LSTM, Dense, merge, Convolution2D, MaxPooling2D, Reshape, Flatten, Dropout\n",
    "from keras.optimizers import RMSprop, Adam\n",
    "from keras import initializations"
   ]
  },
  {
   "cell_type": "code",
   "execution_count": null,
   "metadata": {
    "collapsed": false
   },
   "outputs": [],
   "source": [
    "# Util functions\n",
    "def my_init(shape, name=None):\n",
    "    return initializations.normal(shape, scale=0.01, name=name)\n",
    "\n",
    "def augment_brightness_camera_images(image):\n",
    "    image1 = cv2.cvtColor(image,cv2.COLOR_RGB2HSV)\n",
    "    random_bright = .25+np.random.uniform()\n",
    "    #print(random_bright)\n",
    "    image1[:,:,2] = image1[:,:,2]*random_bright\n",
    "    image1 = cv2.cvtColor(image1,cv2.COLOR_HSV2RGB)\n",
    "    return image1"
   ]
  },
  {
   "cell_type": "code",
   "execution_count": null,
   "metadata": {
    "collapsed": false
   },
   "outputs": [],
   "source": [
    "# TODO: Fill this in based on where you saved the training and testing data\n",
    "\n",
    "training_file = '/home/autti/Downloads/traffic-signs-data/train_p2.p'\n",
    "testing_file = '/home/autti/Downloads/traffic-signs-data/test_p2.p'\n",
    "\n",
    "\n",
    "with open(training_file, mode='rb') as f:\n",
    "    train = pickle.load(f)\n",
    "with open(testing_file, mode='rb') as f:\n",
    "    test = pickle.load(f)\n",
    "\n",
    "\n",
    "X_train, y_train = train['features'], train['labels']\n",
    "X_test, y_test = test['features'], test['labels']"
   ]
  },
  {
   "cell_type": "code",
   "execution_count": null,
   "metadata": {
    "collapsed": false
   },
   "outputs": [],
   "source": [
    "print(\"shape train\", X_train.shape)\n",
    "print(X_train[0, :, :, 0])\n",
    "print(\"labels\", y_train.shape)\n",
    "plt.figure()\n",
    "plt.imshow(X_train[0, :, :, :])"
   ]
  },
  {
   "cell_type": "code",
   "execution_count": null,
   "metadata": {
    "collapsed": false
   },
   "outputs": [],
   "source": [
    "# normalize data\n",
    "X_train = X_train.astype(np.float32)/255\n",
    "X_train -= 0.5\n",
    "print(X_train[0,:,:,0])\n",
    "print(\"max\",np.max(y_train),\"min\",np.min(y_train))\n",
    "y_label = np.zeros(shape=(y_train.shape[0], np.max(y_train) + 1))\n",
    "\n",
    "for i in range(y_train.shape[0]):\n",
    "    y_label[i, y_train[i]]=1\n",
    "\n",
    "#X_train = X_train[:10]\n",
    "#y_label = y_label[:10]\n",
    "#print(y_label[-2:,:])"
   ]
  },
  {
   "cell_type": "code",
   "execution_count": null,
   "metadata": {
    "collapsed": false
   },
   "outputs": [],
   "source": [
    "prefix = 'traffic'\n",
    "model_path ='.model_{0}.h5'.format(prefix) \n",
    "sgd_select = Adam(lr=0.0001, beta_1=0.9, beta_2=0.999, epsilon=1e-08, decay=0.0)"
   ]
  },
  {
   "cell_type": "code",
   "execution_count": null,
   "metadata": {
    "collapsed": false
   },
   "outputs": [],
   "source": [
    "# network architecture\n",
    "\n",
    "# input layer\n",
    "main_input = Input(shape=(32, 32, 3), name='main_input')\n",
    "\n",
    "color_map = Convolution2D(3, 1, 1, init=my_init, border_mode='same')(main_input)\n",
    "\n",
    "conv1 = Convolution2D(32, 3, 3, init=my_init, border_mode='same')(color_map)\n",
    "conv2 = Convolution2D(32, 3, 3, init=my_init, border_mode='same')(conv1)\n",
    "pool1 = MaxPooling2D(pool_size=(3, 3))(conv2)\n",
    "drop1 = Dropout(0.5)(pool1)\n",
    "\n",
    "conv3 = Convolution2D(64, 3, 3, init=my_init, border_mode='same')(drop1)\n",
    "conv4 = Convolution2D(64, 3, 3, init=my_init, border_mode='same')(conv3)\n",
    "pool2 = MaxPooling2D(pool_size=(3, 3))(conv4)\n",
    "drop2 = Dropout(0.5)(pool2)\n",
    "\n",
    "conv5 = Convolution2D(128, 3, 3, init=my_init, border_mode='same')(drop2)\n",
    "conv6 = Convolution2D(128, 3, 3, init=my_init, border_mode='same')(conv5)\n",
    "pool3 = MaxPooling2D(pool_size=(3, 3))(conv6)\n",
    "drop3 = Dropout(0.5)(pool3)\n",
    "\n",
    "# flatten layer\n",
    "flat1 = Flatten()(drop1)\n",
    "flat2 = Flatten()(drop2)\n",
    "flat3 = Flatten()(drop3)\n",
    "\n",
    "# concatenate all vectors\n",
    "merged1 = merge([flat1, flat2, flat3], name='merge1', mode='concat',concat_axis = 1)\n",
    "\n",
    "fc1 = Dense(1024)(merged1)\n",
    "drop4 = Dropout(0.5)(fc1)\n",
    "\n",
    "fc2 = Dense(1024)(drop4)\n",
    "drop5 = Dropout(0.5)(fc2)\n",
    "\n",
    "softmax_layer = Dense(43)(drop5)\n",
    "main_output = Activation('softmax')(softmax_layer)\n",
    "print(\"final\", main_output)"
   ]
  },
  {
   "cell_type": "code",
   "execution_count": null,
   "metadata": {
    "collapsed": false
   },
   "outputs": [],
   "source": [
    "# select inputs, outputs and customized sgd\n",
    "sign_model = Model(input = [main_input], output = [main_output])\n",
    "sign_model.compile(optimizer = sgd_select, loss = 'categorical_crossentropy', metrics=['accuracy'])"
   ]
  },
  {
   "cell_type": "code",
   "execution_count": null,
   "metadata": {
    "collapsed": false,
    "scrolled": true
   },
   "outputs": [],
   "source": [
    "sign_model.fit([X_train], [y_label], nb_epoch=50, batch_size=256)\n",
    "sign_model.save(model_path)"
   ]
  },
  {
   "cell_type": "code",
   "execution_count": null,
   "metadata": {
    "collapsed": true
   },
   "outputs": [],
   "source": []
  }
 ],
 "metadata": {
  "kernelspec": {
   "display_name": "Python 2",
   "language": "python",
   "name": "python2"
  },
  "language_info": {
   "codemirror_mode": {
    "name": "ipython",
    "version": 2
   },
   "file_extension": ".py",
   "mimetype": "text/x-python",
   "name": "python",
   "nbconvert_exporter": "python",
   "pygments_lexer": "ipython2",
   "version": "2.7.6"
  }
 },
 "nbformat": 4,
 "nbformat_minor": 0
}
